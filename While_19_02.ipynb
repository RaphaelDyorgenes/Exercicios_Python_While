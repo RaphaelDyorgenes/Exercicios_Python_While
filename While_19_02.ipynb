{
  "nbformat": 4,
  "nbformat_minor": 0,
  "metadata": {
    "colab": {
      "provenance": []
    },
    "kernelspec": {
      "name": "python3",
      "display_name": "Python 3"
    },
    "language_info": {
      "name": "python"
    }
  },
  "cells": [
    {
      "cell_type": "code",
      "source": [
        "1\n",
        "\n",
        "nota = int(input(\"Insiara um número de 0 a 10: \"))\n",
        "\n",
        "while nota < 0 or nota >10:\n",
        "  print(\"Valor Invalido\")\n",
        "  nota = int(input(\"Insiara um número de 0 a 10: \"))\n"
      ],
      "metadata": {
        "id": "pOPRVN1JctP-"
      },
      "execution_count": null,
      "outputs": []
    },
    {
      "cell_type": "code",
      "source": [
        "2\n",
        "notas = 0\n",
        "indice = 0\n",
        "continuar = \"S\"\n",
        "\n",
        "while continuar == \"S\":\n",
        "  notas += int(input(\"Insira a nota:\"))\n",
        "  indice += 1\n",
        "  media = notas/indice\n",
        "  continuar = input(\"Deseja Continuar? Sim(S), ou qualquer tecla para sair\").upper()\n",
        "  print(f\"Atualmente a média é {media: .2f}\")"
      ],
      "metadata": {
        "id": "_6wV7-i1e8SG",
        "colab": {
          "base_uri": "https://localhost:8080/"
        },
        "outputId": "9348b6ea-0149-42b9-9469-7f89ca8bda16"
      },
      "execution_count": null,
      "outputs": [
        {
          "output_type": "stream",
          "name": "stdout",
          "text": [
            "Insira a nota:2\n",
            "Deseja Continuar? Sim(S), ou qualquer tecla para sair)s\n",
            "Atualmente a média é  2.00\n"
          ]
        }
      ]
    },
    {
      "cell_type": "code",
      "source": [
        "3\n",
        "\n",
        "usuario = input(\"Insira seu usuário: \")\n",
        "senha = input(\"Defina sua senha: \")\n",
        "\n",
        "while usuario == senha:\n",
        "  senha = input(\"A senha não pode ser igual ao seu usuário, insira uma nova senha: \")\n",
        "else:\n",
        "  print(\"Cadastro realisado com sucesso\")"
      ],
      "metadata": {
        "id": "csLoPewRgK_g"
      },
      "execution_count": null,
      "outputs": []
    },
    {
      "cell_type": "code",
      "source": [
        "4\n",
        "\n",
        "atual = float(input(\"Insira o valor inicial do salario: \"))\n",
        "ano_base = 1995\n",
        "percentual = 0.015\n",
        "\n",
        "while ano_base < 2024:\n",
        "  atual += atual*percentual\n",
        "  ano_base += 1\n",
        "  percentual *= 2\n",
        "  print(f\"No ano {ano_base} o salário do fúncionari é gual a {atual: .2f}\")\n"
      ],
      "metadata": {
        "id": "pL6Bp4ijipa4"
      },
      "execution_count": null,
      "outputs": []
    },
    {
      "cell_type": "code",
      "source": [
        "5\n",
        "\n",
        "while True:\n",
        "  nome = input(\"Insira seu nome: \")\n",
        "  idade = int(input(\"Insira sua idade: \"))\n",
        "  salario = float(input(\"Insira seu salário: \"))\n",
        "  sexo = input(\"Qual o seu sexo? insira (f) para mulher, e (m) para homem: \")\n",
        "  civil = input('''Qual o seu estado civíl ?\n",
        "  s - solteiro(a)\n",
        "  c - casado(a)\n",
        "  v - viuvo(a)\n",
        "  d - divorciado(a): ''')\n",
        "  if len(nome) >= 3 and idade > 0 and idade < 150 and salario > 0 and sexo != \"m\" and sexo != \"f\" and civil == \"s\" or civil == \"c\" or civil == \"v\" or civil == \"d\":\n",
        "    break\n",
        "  else:\n",
        "    print(\"informações invalidas\")\n",
        "print(\"Informaçoes validadas\")\n"
      ],
      "metadata": {
        "id": "mXmJiHcilgo9"
      },
      "execution_count": null,
      "outputs": []
    },
    {
      "cell_type": "code",
      "source": [
        "g"
      ],
      "metadata": {
        "id": "Lmpb0oGVLVVR"
      },
      "execution_count": null,
      "outputs": []
    },
    {
      "cell_type": "markdown",
      "source": [],
      "metadata": {
        "id": "Y6-pqiU3cb1M"
      }
    },
    {
      "cell_type": "code",
      "source": [
        "6\n",
        "\n",
        "a = 80000\n",
        "b = 200000\n",
        "anos = 0\n",
        "\n",
        "while a < b:\n",
        "  anos += 1\n",
        "  a += a*0.03\n",
        "  b += b*0.015\n",
        "print(f\" levou {anos} anos, a = {a}, b = {b}\")"
      ],
      "metadata": {
        "id": "r-fYL6hm96cb"
      },
      "execution_count": null,
      "outputs": []
    },
    {
      "cell_type": "code",
      "source": [
        "7\n",
        "\n",
        "soma = 1\n",
        "numero = int(input(\"Insira um numero que direi o fatorial: \"))\n",
        "\n",
        "while numero != 0:\n",
        "  soma *= numero\n",
        "  numero -= 1\n",
        "print(soma)"
      ],
      "metadata": {
        "id": "8v4Zh5me_UNM",
        "colab": {
          "base_uri": "https://localhost:8080/"
        },
        "outputId": "db2eb53a-72a3-46e4-b871-f5448e8bb50f"
      },
      "execution_count": null,
      "outputs": [
        {
          "output_type": "stream",
          "name": "stdout",
          "text": [
            "Insira um numero que direi o fatorial: 0\n",
            "1\n"
          ]
        }
      ]
    },
    {
      "cell_type": "code",
      "source": [
        "8\n",
        "\n",
        "notas = 0\n",
        "indice = 0\n",
        "media = 0\n",
        "\n",
        "while True:\n",
        "  resposta = int(input(\"Insira a nota:\"))\n",
        "  if resposta == 0:\n",
        "    break\n",
        "  notas += resposta\n",
        "  indice += 1\n",
        "  media = notas/indice\n",
        "print(f\"Atualmente a média é {media: .2f}\")"
      ],
      "metadata": {
        "id": "PWDT34r5CTTn",
        "colab": {
          "base_uri": "https://localhost:8080/"
        },
        "outputId": "dc69feb4-a39d-484f-ffe2-aa703e11c213"
      },
      "execution_count": null,
      "outputs": [
        {
          "output_type": "stream",
          "name": "stdout",
          "text": [
            "Insira a nota:2\n",
            "Insira a nota:2\n",
            "Insira a nota:2\n",
            "Insira a nota:2\n",
            "Insira a nota:0\n",
            "Atualmente a média é  2.00\n"
          ]
        }
      ]
    },
    {
      "cell_type": "code",
      "source": [
        "9\n",
        "\n",
        "cont = 0\n",
        "n1 = 1\n",
        "n2 = 1\n",
        "soma = 0\n",
        "\n",
        "term = int(input(\"Insira o termo para a reprtiço da série de Fibonacci\"))\n",
        "\n",
        "while cont < term:\n",
        "  print(n1)\n",
        "  soma = n1 + n2\n",
        "  n1 = n2\n",
        "  n2 = soma\n",
        "  cont += 1\n"
      ],
      "metadata": {
        "id": "DCVAVssNEq-T"
      },
      "execution_count": null,
      "outputs": []
    },
    {
      "cell_type": "code",
      "source": [
        "10\n",
        "while True:\n",
        "  cont = 1\n",
        "  valor = 0\n",
        "  preco = 1\n",
        "  print(f\"Insira o valor do produto: \")\n",
        "  while preco != 0 :\n",
        "    preco = float(input())\n",
        "    if preco != 0:\n",
        "      print(f\"Produto {cont}: R$ {preco}\")\n",
        "      cont += 1\n",
        "      valor += preco\n",
        "\n",
        "  print(f\"Valor total: {valor}\")\n",
        "  pagamento = float(input(\"Insira o valor do pagamento: \"))\n",
        "  while pagamento < valor:\n",
        "    pagamento = float(input(\"Pagamento insuficiente! O pagaemto deve ser maior: \"))\n",
        "  print(f\"Troco: {pagamento-valor: .2f}\")"
      ],
      "metadata": {
        "id": "Psea_kYpjYaJ",
        "colab": {
          "base_uri": "https://localhost:8080/",
          "height": 389
        },
        "outputId": "8758c8a5-735d-4081-fb6b-de0a482114c9"
      },
      "execution_count": null,
      "outputs": [
        {
          "output_type": "stream",
          "name": "stdout",
          "text": [
            "Insira o valor do produto: \n"
          ]
        },
        {
          "output_type": "error",
          "ename": "KeyboardInterrupt",
          "evalue": "Interrupted by user",
          "traceback": [
            "\u001b[0;31m---------------------------------------------------------------------------\u001b[0m",
            "\u001b[0;31mKeyboardInterrupt\u001b[0m                         Traceback (most recent call last)",
            "\u001b[0;32m<ipython-input-18-b827dda75078>\u001b[0m in \u001b[0;36m<cell line: 2>\u001b[0;34m()\u001b[0m\n\u001b[1;32m      6\u001b[0m   \u001b[0mprint\u001b[0m\u001b[0;34m(\u001b[0m\u001b[0;34mf\"Insira o valor do produto: \"\u001b[0m\u001b[0;34m)\u001b[0m\u001b[0;34m\u001b[0m\u001b[0;34m\u001b[0m\u001b[0m\n\u001b[1;32m      7\u001b[0m   \u001b[0;32mwhile\u001b[0m \u001b[0mpreco\u001b[0m \u001b[0;34m!=\u001b[0m \u001b[0;36m0\u001b[0m \u001b[0;34m:\u001b[0m\u001b[0;34m\u001b[0m\u001b[0;34m\u001b[0m\u001b[0m\n\u001b[0;32m----> 8\u001b[0;31m     \u001b[0mpreco\u001b[0m \u001b[0;34m=\u001b[0m \u001b[0mfloat\u001b[0m\u001b[0;34m(\u001b[0m\u001b[0minput\u001b[0m\u001b[0;34m(\u001b[0m\u001b[0;34m)\u001b[0m\u001b[0;34m)\u001b[0m\u001b[0;34m\u001b[0m\u001b[0;34m\u001b[0m\u001b[0m\n\u001b[0m\u001b[1;32m      9\u001b[0m     \u001b[0;32mif\u001b[0m \u001b[0mpreco\u001b[0m \u001b[0;34m!=\u001b[0m \u001b[0;36m0\u001b[0m\u001b[0;34m:\u001b[0m\u001b[0;34m\u001b[0m\u001b[0;34m\u001b[0m\u001b[0m\n\u001b[1;32m     10\u001b[0m       \u001b[0mprint\u001b[0m\u001b[0;34m(\u001b[0m\u001b[0;34mf\"Produto {cont}: R$ {preco}\"\u001b[0m\u001b[0;34m)\u001b[0m\u001b[0;34m\u001b[0m\u001b[0;34m\u001b[0m\u001b[0m\n",
            "\u001b[0;32m/usr/local/lib/python3.10/dist-packages/ipykernel/kernelbase.py\u001b[0m in \u001b[0;36mraw_input\u001b[0;34m(self, prompt)\u001b[0m\n\u001b[1;32m    849\u001b[0m                 \u001b[0;34m\"raw_input was called, but this frontend does not support input requests.\"\u001b[0m\u001b[0;34m\u001b[0m\u001b[0;34m\u001b[0m\u001b[0m\n\u001b[1;32m    850\u001b[0m             )\n\u001b[0;32m--> 851\u001b[0;31m         return self._input_request(str(prompt),\n\u001b[0m\u001b[1;32m    852\u001b[0m             \u001b[0mself\u001b[0m\u001b[0;34m.\u001b[0m\u001b[0m_parent_ident\u001b[0m\u001b[0;34m,\u001b[0m\u001b[0;34m\u001b[0m\u001b[0;34m\u001b[0m\u001b[0m\n\u001b[1;32m    853\u001b[0m             \u001b[0mself\u001b[0m\u001b[0;34m.\u001b[0m\u001b[0m_parent_header\u001b[0m\u001b[0;34m,\u001b[0m\u001b[0;34m\u001b[0m\u001b[0;34m\u001b[0m\u001b[0m\n",
            "\u001b[0;32m/usr/local/lib/python3.10/dist-packages/ipykernel/kernelbase.py\u001b[0m in \u001b[0;36m_input_request\u001b[0;34m(self, prompt, ident, parent, password)\u001b[0m\n\u001b[1;32m    893\u001b[0m             \u001b[0;32mexcept\u001b[0m \u001b[0mKeyboardInterrupt\u001b[0m\u001b[0;34m:\u001b[0m\u001b[0;34m\u001b[0m\u001b[0;34m\u001b[0m\u001b[0m\n\u001b[1;32m    894\u001b[0m                 \u001b[0;31m# re-raise KeyboardInterrupt, to truncate traceback\u001b[0m\u001b[0;34m\u001b[0m\u001b[0;34m\u001b[0m\u001b[0m\n\u001b[0;32m--> 895\u001b[0;31m                 \u001b[0;32mraise\u001b[0m \u001b[0mKeyboardInterrupt\u001b[0m\u001b[0;34m(\u001b[0m\u001b[0;34m\"Interrupted by user\"\u001b[0m\u001b[0;34m)\u001b[0m \u001b[0;32mfrom\u001b[0m \u001b[0;32mNone\u001b[0m\u001b[0;34m\u001b[0m\u001b[0;34m\u001b[0m\u001b[0m\n\u001b[0m\u001b[1;32m    896\u001b[0m             \u001b[0;32mexcept\u001b[0m \u001b[0mException\u001b[0m \u001b[0;32mas\u001b[0m \u001b[0me\u001b[0m\u001b[0;34m:\u001b[0m\u001b[0;34m\u001b[0m\u001b[0;34m\u001b[0m\u001b[0m\n\u001b[1;32m    897\u001b[0m                 \u001b[0mself\u001b[0m\u001b[0;34m.\u001b[0m\u001b[0mlog\u001b[0m\u001b[0;34m.\u001b[0m\u001b[0mwarning\u001b[0m\u001b[0;34m(\u001b[0m\u001b[0;34m\"Invalid Message:\"\u001b[0m\u001b[0;34m,\u001b[0m \u001b[0mexc_info\u001b[0m\u001b[0;34m=\u001b[0m\u001b[0;32mTrue\u001b[0m\u001b[0;34m)\u001b[0m\u001b[0;34m\u001b[0m\u001b[0;34m\u001b[0m\u001b[0m\n",
            "\u001b[0;31mKeyboardInterrupt\u001b[0m: Interrupted by user"
          ]
        }
      ]
    },
    {
      "cell_type": "code",
      "source": [
        "11\n",
        "\n",
        "sub = 0\n",
        "qtd = 0\n",
        "codigo = 1\n",
        "valor = 0\n",
        "descricao = \"0\"\n",
        "pagamento = 0\n",
        "\n",
        "while codigo != 0:\n",
        "  codigo = int(input(\"Insira o código do produto: \"))\n",
        "  if codigo != 0:\n",
        "    qtd = int(input(\"Qual a quantidade: \"))\n",
        "    if codigo == 100:\n",
        "      valor = 1.2\n",
        "      descricao = \"Cachorro Quente\"\n",
        "    elif codigo == 101:\n",
        "      valor = 1.3\n",
        "      descricao = \"Bauru Simples\"\n",
        "    elif codigo == 102:\n",
        "      valor = 1.5\n",
        "      descricao = \"Bauru com ovo\"\n",
        "    elif codigo == 103:\n",
        "      valor = 1.2\n",
        "      descricao = \"Hambúrguer\"\n",
        "    elif codigo == 104:\n",
        "      valor = 1.3\n",
        "      descricao = \"Cheeseburguer\"\n",
        "    elif codigo == 105:\n",
        "      valor = 1\n",
        "      descricao = \"Refrigerante\"\n",
        "    soma = valor * qtd\n",
        "    sub += soma\n",
        "    print(f\"{descricao} x {qtd} = R$ {sub}\")\n",
        "  else:\n",
        "    sub += 0\n",
        "print(f\"O valor total {sub}\")\n",
        "pagamento = float(input(\"Insira o valor do pagamento: \"))\n",
        "while pagamento < valor:\n",
        "    pagamento = float(input(\"Pagamento insuficiente! O pagaemto deve ser maior: \"))\n",
        "print(f\"Troco R$ {pagamento-sub:.2f}\")"
      ],
      "metadata": {
        "colab": {
          "base_uri": "https://localhost:8080/"
        },
        "id": "ooXaOIUUqVVD",
        "outputId": "39f7ecd7-37d1-446c-c8eb-0463799dff0f"
      },
      "execution_count": null,
      "outputs": [
        {
          "output_type": "stream",
          "name": "stdout",
          "text": [
            "Insira o código do produto: 102\n",
            "Qual a quantidade: 3\n",
            "Bauru com ovo x 3 = R$ 4.5\n",
            "Insira o código do produto: 0\n",
            "O valor total 4.5\n",
            "Insira o valor do pagamento: 10\n",
            "Troco R$ 5.50\n"
          ]
        }
      ]
    },
    {
      "cell_type": "code",
      "source": [
        "12\n",
        "\n",
        "c1 = c2 = c3 = c4 = nulo = branco = total = 0\n",
        "\n",
        "print('''Candidatos:\n",
        "1 - José\n",
        "2 - João\n",
        "3 - Ana\n",
        "4 - Maria\n",
        "5 - Voto nulo\n",
        "6 - Voto em branco''')\n",
        "\n",
        "while True:\n",
        "  voto = int(input(\"\\nInsira seu voto:\"))\n",
        "  if voto != 0:\n",
        "    if voto == 1:\n",
        "     c1 += 1\n",
        "    elif voto == 2:\n",
        "     c2 += 1\n",
        "    elif voto == 3:\n",
        "      c3 += 1\n",
        "    elif voto == 4:\n",
        "      c4 += 1\n",
        "    elif voto == 5:\n",
        "     nulo += 1\n",
        "    elif voto == 6:\n",
        "      branco += 1\n",
        "  else:\n",
        "    break\n",
        "  if voto != 0:\n",
        "    total += 1\n",
        "print(f'''\\nVotos - Candidato\n",
        "{c1} - José\n",
        "{c2} - João\n",
        "{c3} - Ana\n",
        "{c4} - Maria\n",
        "\n",
        "Votos em nulos {nulo*(100/total):.2f}%\n",
        "Votos em branco {branco*(100/total):.2f}%''')"
      ],
      "metadata": {
        "id": "GokdHVc24Rf2",
        "colab": {
          "base_uri": "https://localhost:8080/",
          "height": 365
        },
        "outputId": "9a021349-3e2b-4452-ea7a-5bd0db6d0b0a"
      },
      "execution_count": null,
      "outputs": [
        {
          "name": "stdout",
          "output_type": "stream",
          "text": [
            "Candidatos:\n",
            "1 - José\n",
            "2 - João\n",
            "3 - Ana\n",
            "4 - Maria\n",
            "5 - Voto nulo\n",
            "6 - Voto em branco\n",
            "\n",
            "Insira seu voto:0\n"
          ]
        },
        {
          "output_type": "error",
          "ename": "ZeroDivisionError",
          "evalue": "division by zero",
          "traceback": [
            "\u001b[0;31m---------------------------------------------------------------------------\u001b[0m",
            "\u001b[0;31mZeroDivisionError\u001b[0m                         Traceback (most recent call last)",
            "\u001b[0;32m<ipython-input-29-e1facb76ecac>\u001b[0m in \u001b[0;36m<cell line: 32>\u001b[0;34m()\u001b[0m\n\u001b[1;32m     36\u001b[0m \u001b[0;34m{\u001b[0m\u001b[0mc4\u001b[0m\u001b[0;34m}\u001b[0m \u001b[0;34m-\u001b[0m \u001b[0mMaria\u001b[0m\u001b[0;34m\u001b[0m\u001b[0;34m\u001b[0m\u001b[0m\n\u001b[1;32m     37\u001b[0m \u001b[0;34m\u001b[0m\u001b[0m\n\u001b[0;32m---> 38\u001b[0;31m \u001b[0mVotos\u001b[0m \u001b[0mem\u001b[0m \u001b[0mnulos\u001b[0m \u001b[0;34m{\u001b[0m\u001b[0mnulo\u001b[0m\u001b[0;34m*\u001b[0m\u001b[0;34m(\u001b[0m\u001b[0;36m100\u001b[0m\u001b[0;34m/\u001b[0m\u001b[0mtotal\u001b[0m\u001b[0;34m)\u001b[0m\u001b[0;34m:\u001b[0m\u001b[0;36m.2\u001b[0m\u001b[0mf\u001b[0m\u001b[0;34m}\u001b[0m\u001b[0;34m%\u001b[0m\u001b[0;34m\u001b[0m\u001b[0;34m\u001b[0m\u001b[0m\n\u001b[0m\u001b[1;32m     39\u001b[0m Votos em branco {branco*(100/total):.2f}%''')\n",
            "\u001b[0;31mZeroDivisionError\u001b[0m: division by zero"
          ]
        }
      ]
    }
  ]
}